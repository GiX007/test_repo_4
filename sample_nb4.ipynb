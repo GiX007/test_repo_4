{
  "nbformat": 4,
  "nbformat_minor": 0,
  "metadata": {
    "colab": {
      "provenance": []
    },
    "kernelspec": {
      "name": "python3",
      "display_name": "Python 3"
    },
    "language_info": {
      "name": "python"
    }
  },
  "cells": [
    {
      "cell_type": "code",
      "source": [
        "# operations: fillna, groupby, concat using Penguins dataset\n",
        "import pandas as pd\n",
        "\n",
        "penguins = pd.read_csv('https://raw.githubusercontent.com/mwaskom/seaborn-data/master/penguins.csv')"
      ],
      "metadata": {
        "id": "AV-XdgudkEfP"
      },
      "execution_count": null,
      "outputs": []
    },
    {
      "cell_type": "code",
      "source": [
        "# fillna\n",
        "filled = penguins.fillna({'bill_length_mm': penguins['bill_length_mm'].mean()})"
      ],
      "metadata": {
        "id": "mLp8EWeRkEa5"
      },
      "execution_count": null,
      "outputs": []
    },
    {
      "cell_type": "code",
      "source": [
        "# groupby\n",
        "grouped = filled.groupby('species')['bill_length_mm'].mean()\n",
        "print(grouped)"
      ],
      "metadata": {
        "colab": {
          "base_uri": "https://localhost:8080/"
        },
        "id": "B2PTEudwll5x",
        "outputId": "ba714c17-3f56-4b4d-d856-9d986f4110d4"
      },
      "execution_count": null,
      "outputs": [
        {
          "output_type": "stream",
          "name": "stdout",
          "text": [
            "species\n",
            "Adelie       38.825144\n",
            "Chinstrap    48.833824\n",
            "Gentoo       47.475983\n",
            "Name: bill_length_mm, dtype: float64\n"
          ]
        }
      ]
    },
    {
      "cell_type": "code",
      "source": [
        "# concat\n",
        "part1 = filled.head(10)\n",
        "part2 = filled.tail(10)\n",
        "combined = pd.concat([part1, part2], ignore_index=True)\n",
        "print(combined)"
      ],
      "metadata": {
        "colab": {
          "base_uri": "https://localhost:8080/"
        },
        "id": "p7bLJ0-Fll2k",
        "outputId": "c079f102-9fc2-4de8-a0f5-c7c31353a6e5"
      },
      "execution_count": null,
      "outputs": [
        {
          "output_type": "stream",
          "name": "stdout",
          "text": [
            "   species     island  bill_length_mm  bill_depth_mm  flipper_length_mm  \\\n",
            "0   Adelie  Torgersen        39.10000           18.7              181.0   \n",
            "1   Adelie  Torgersen        39.50000           17.4              186.0   \n",
            "2   Adelie  Torgersen        40.30000           18.0              195.0   \n",
            "3   Adelie  Torgersen        43.92193            NaN                NaN   \n",
            "4   Adelie  Torgersen        36.70000           19.3              193.0   \n",
            "5   Adelie  Torgersen        39.30000           20.6              190.0   \n",
            "6   Adelie  Torgersen        38.90000           17.8              181.0   \n",
            "7   Adelie  Torgersen        39.20000           19.6              195.0   \n",
            "8   Adelie  Torgersen        34.10000           18.1              193.0   \n",
            "9   Adelie  Torgersen        42.00000           20.2              190.0   \n",
            "10  Gentoo     Biscoe        46.20000           14.1              217.0   \n",
            "11  Gentoo     Biscoe        55.10000           16.0              230.0   \n",
            "12  Gentoo     Biscoe        44.50000           15.7              217.0   \n",
            "13  Gentoo     Biscoe        48.80000           16.2              222.0   \n",
            "14  Gentoo     Biscoe        47.20000           13.7              214.0   \n",
            "15  Gentoo     Biscoe        43.92193            NaN                NaN   \n",
            "16  Gentoo     Biscoe        46.80000           14.3              215.0   \n",
            "17  Gentoo     Biscoe        50.40000           15.7              222.0   \n",
            "18  Gentoo     Biscoe        45.20000           14.8              212.0   \n",
            "19  Gentoo     Biscoe        49.90000           16.1              213.0   \n",
            "\n",
            "    body_mass_g     sex  \n",
            "0        3750.0    MALE  \n",
            "1        3800.0  FEMALE  \n",
            "2        3250.0  FEMALE  \n",
            "3           NaN     NaN  \n",
            "4        3450.0  FEMALE  \n",
            "5        3650.0    MALE  \n",
            "6        3625.0  FEMALE  \n",
            "7        4675.0    MALE  \n",
            "8        3475.0     NaN  \n",
            "9        4250.0     NaN  \n",
            "10       4375.0  FEMALE  \n",
            "11       5850.0    MALE  \n",
            "12       4875.0     NaN  \n",
            "13       6000.0    MALE  \n",
            "14       4925.0  FEMALE  \n",
            "15          NaN     NaN  \n",
            "16       4850.0  FEMALE  \n",
            "17       5750.0    MALE  \n",
            "18       5200.0  FEMALE  \n",
            "19       5400.0    MALE  \n"
          ]
        }
      ]
    },
    {
      "cell_type": "code",
      "source": [],
      "metadata": {
        "id": "rgPFQlMtlzKS"
      },
      "execution_count": null,
      "outputs": []
    }
  ]
}